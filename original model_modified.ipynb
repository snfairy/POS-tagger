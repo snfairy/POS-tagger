{
 "cells": [
  {
   "cell_type": "code",
   "execution_count": 4,
   "metadata": {},
   "outputs": [
    {
     "name": "stdout",
     "output_type": "stream",
     "text": [
      "Creating Combined Glove Vectors\n",
      "training 0 0.94                                         \n",
      "validation 0 0.935                                      \n",
      "[0.6375     0.62924282 0.48601864 0.38864629 0.27531646 0.21238938\n",
      " 0.1648855  0.13554987 0.09885932 0.02542373]\n",
      "training 1 0.94                                         \n",
      "validation 1 0.935                                      \n",
      "[0.6375     0.62924282 0.48601864 0.38864629 0.27531646 0.21238938\n",
      " 0.1648855  0.13554987 0.09885932 0.02542373]\n"
     ]
    },
    {
     "data": {
      "image/png": "[encoded data removed]",
      "text/plain": [
       "<Figure size 432x288 with 1 Axes>"
      ]
     },
     "metadata": {
      "needs_background": "light"
     },
     "output_type": "display_data"
    }
   ],
   "source": [
    "import numpy as np\n",
    "import pickle, os, sys\n",
    "import torch\n",
    "from torch import nn\n",
    "import torch.optim as optim\n",
    "import matplotlib.pyplot as plt\n",
    "import bisect\n",
    "\n",
    "loss_r = []\n",
    "\n",
    "GLOVE_FILE = 'glove.6B.300d.txt'\n",
    "TRAINING_FILE = 'wsj1-18.training'\n",
    "VALIDATION_FILE = 'wsj19-21.truth'\n",
    "DEVICE = torch.device('cuda' if torch.cuda.is_available() else 'cpu')\n",
    "\n",
    "class pos_tagger(nn.Module):\n",
    "    def __init__(self):\n",
    "        super(pos_tagger, self).__init__()\n",
    "        self.rnn = nn.LSTM(input_size = 350, hidden_size = 45, bidirectional=True)\n",
    "        self.linear = nn.Linear(90, 45)\n",
    "        self.softmax = nn.Softmax(-1)\n",
    "\n",
    "    def forward(self, seq, hidden=None):\n",
    "        output, _ = self.rnn(seq)\n",
    "        output = self.softmax(self.linear(output))\n",
    "        return output\n",
    "\n",
    "def loadGloveModel(gloveFile):\n",
    "    print('Creating Combined Glove Vectors')\n",
    "    outname = gloveFile + '.pkl'\n",
    "    if os.path.isfile(outname):\n",
    "        model = pickle.load(open(outname,'rb'))\n",
    "        #word_vec = pickle.load(open('model_prior_distribution.pyc','rb'))\n",
    "    else:\n",
    "        f = open(gloveFile,'r', encoding = 'utf-8')\n",
    "        pickle_in = open('model_prior_distribution.pyc',\"rb\")\n",
    "        word_vec = pickle.load(pickle_in)\n",
    "        model = {}\n",
    "        for line in f:\n",
    "            splitLine = line.split()\n",
    "            word = splitLine[0]\n",
    "            if word in word_vec:\n",
    "                embedding = np.array([float(val) for val in splitLine[1:]] +list(word_vec[word]))\n",
    "            else:\n",
    "                embedding = np.array([float(val) for val in splitLine[1:]] +[0]*50)\n",
    "            model[word] = embedding\n",
    "        pickle.dump(model, open(outname,'wb'))\n",
    "    return model\n",
    "\n",
    "def read_data(file):\n",
    "    for line in open(file):\n",
    "        tokens = line.strip().split()\n",
    "        words = tokens[0::2]\n",
    "        tags = tokens[1::2]\n",
    "        yield list(zip(words,tags))\n",
    "\n",
    "def main(argv):\n",
    "    model = loadGloveModel(GLOVE_FILE)\n",
    "    model_file = 'model.torch'\n",
    "\n",
    "    tagger = pos_tagger().to(DEVICE)\n",
    "    training_sentences = list(read_data(TRAINING_FILE))\n",
    "    validation_sentences = list(read_data(VALIDATION_FILE))\n",
    "    tags = set([tag.upper() for sentence in training_sentences for _, tag in sentence])\n",
    "    tag_embeddings = dict([(tag, np.eye(len(tags))[idx]) for idx, tag in enumerate(tags)])\n",
    "    num_train_sent = len(training_sentences)\n",
    "    num_val_set = len(validation_sentences)\n",
    "\n",
    "    criterion = nn.MSELoss()\n",
    "    optimizer = optim.Adam(tagger.parameters(),lr=0.0001)\n",
    "\n",
    "    for epoch in range(2):\n",
    "        if os.path.isfile(model_file):\n",
    "            tagger = torch.load(model_file)\n",
    "        for idx, sentence in enumerate(training_sentences):\n",
    "            tagger.train()\n",
    "            tagger.zero_grad()\n",
    "            optimizer.zero_grad()\n",
    "\n",
    "            words, tags = list(zip(*sentence))\n",
    "            word_embeddings = np.array([model.get(word.lower(), np.zeros((350,))) for word in words])\n",
    "            word_embeddings = torch.tensor(word_embeddings).float().reshape(-1,1,350).to(DEVICE)\n",
    "            labels = np.array([tag_embeddings[tag] for tag in tags])\n",
    "            labels = torch.tensor(labels).float().reshape(-1,1,45).to(DEVICE)\n",
    "\n",
    "            output = tagger(word_embeddings)\n",
    "            loss = criterion(labels, output)\n",
    "            loss.backward()\n",
    "            optimizer.step()\n",
    "            if idx % 10 == 0:\n",
    "                print(f'training {idx/num_train_sent:0.2f} {loss.item():0.5f}', end='\\r')\n",
    "                loss_r.append(loss.item())\n",
    "\n",
    "        count = 0\n",
    "        true = 0\n",
    "        for idx, sentence in enumerate(training_sentences):\n",
    "            tagger.eval()\n",
    "\n",
    "            words, tags = list(zip(*sentence))\n",
    "            word_embeddings = np.array([model.get(word.lower(), np.zeros((350,))) for word in words])\n",
    "            word_embeddings = torch.tensor(word_embeddings).float().reshape(-1,1,350).to(DEVICE)\n",
    "            labels = np.array([tag_embeddings[tag] for tag in tags])\n",
    "            labels = torch.tensor(labels).float().reshape(-1,1,45).to(DEVICE)\n",
    "\n",
    "            output = tagger(word_embeddings).cpu().detach().numpy().reshape(-1,45)\n",
    "            output = np.array([np.where(x == np.amax(x))[0][0] for x in output])\n",
    "            labels = labels.cpu().detach().numpy().reshape(-1,45)\n",
    "            labels = np.array([np.where(x == np.amax(x)) for x in labels]).reshape(-1)\n",
    "\n",
    "            count += len(labels)\n",
    "            true += sum([int(x == y) for x, y in zip(output,labels)])\n",
    "\n",
    "            if idx % 10 == 0:\n",
    "                print(f'testing training set {idx/num_train_sent:0.2f}', end='\\r')\n",
    "        print(f'                                                        ', end='\\r')\n",
    "        print(f'training {epoch} {true/count:0.2f}')\n",
    "\n",
    "        count = 0\n",
    "        true = 0\n",
    "        xax= np.arange(5,50,5)\n",
    "        y = np.zeros(10)\n",
    "        base = np.zeros(10)\n",
    "        \n",
    "        \n",
    "        for idx, sentence in enumerate(validation_sentences):\n",
    "            tagger.eval()\n",
    "\n",
    "            words, tags = list(zip(*sentence))\n",
    "            word_embeddings = np.array([model.get(word.lower(), np.zeros((350,))) for word in words])\n",
    "            word_embeddings = torch.tensor(word_embeddings).float().reshape(-1,1,350).to(DEVICE)\n",
    "            labels = np.array([tag_embeddings[tag] for tag in tags])\n",
    "            labels = torch.tensor(labels).float().reshape(-1,1,45).to(DEVICE)\n",
    "\n",
    "            output = tagger(word_embeddings).cpu().detach().numpy().reshape(-1,45)\n",
    "            output = np.array([np.where(x == np.amax(x))[0][0] for x in output])\n",
    "            labels = labels.cpu().detach().numpy().reshape(-1,45)\n",
    "            labels = np.array([np.where(x == np.amax(x)) for x in labels]).reshape(-1)\n",
    "\n",
    "            count += len(labels)\n",
    "            true += sum([int(x == y) for x, y in zip(output,labels)])\n",
    "            clen = len(labels)\n",
    "            cpos = bisect.bisect(xax, clen)\n",
    "            base[cpos] += 1\n",
    "            if list(output) == list(labels):\n",
    "                y[cpos] += 1 \n",
    "            \n",
    "\n",
    "            if idx % 10 == 0:\n",
    "                print(f'testing validation set {idx/num_val_set:0.3f}', end='\\r')\n",
    "        print(f'                                                        ', end='\\r')\n",
    "        print(f'validation {epoch} {true/count:0.3f}')\n",
    "        print(y/base)\n",
    "        torch.save(tagger, 'model.torch')\n",
    "        plt.plot(loss_r)\n",
    "        plt.ylabel('Loss')\n",
    "    \n",
    "\n",
    "\n",
    "if __name__ == \"__main__\":\n",
    "    main(sys.argv)"
   ]
  },
  {
   "cell_type": "code",
   "execution_count": 13,
   "metadata": {},
   "outputs": [
    {
     "data": {
      "text/plain": [
       "Text(0.5, 1.0, 'ACC vs Length, LSTM')"
      ]
     },
     "execution_count": 13,
     "metadata": {},
     "output_type": "execute_result"
    },
    {
     "data": {
      "image/png": "[encoded data removed]",
      "text/plain": [
       "<Figure size 432x288 with 1 Axes>"
      ]
     },
     "metadata": {
      "needs_background": "light"
     },
     "output_type": "display_data"
    }
   ],
   "source": [
    "plt.plot(np.arange(5,55,5),[0.6375,0.62924282,0.48601864,0.38864629,0.27531646,0.21238938,\n",
    " 0.1648855,0.13554987,0.09885932,0.02542373])\n",
    "plt.xlabel('Sentence length')\n",
    "plt.ylabel('Accuracy')\n",
    "plt.title('ACC vs Length, LSTM')"
   ]
  },
  {
   "cell_type": "code",
   "execution_count": null,
   "metadata": {},
   "outputs": [],
   "source": []
  }
 ],
 "metadata": {
  "kernelspec": {
   "display_name": "Python 3",
   "language": "python",
   "name": "python3"
  },
  "language_info": {
   "codemirror_mode": {
    "name": "ipython",
    "version": 3
   },
   "file_extension": ".py",
   "mimetype": "text/x-python",
   "name": "python",
   "nbconvert_exporter": "python",
   "pygments_lexer": "ipython3",
   "version": "3.6.5"
  }
 },
 "nbformat": 4,
 "nbformat_minor": 2
}
